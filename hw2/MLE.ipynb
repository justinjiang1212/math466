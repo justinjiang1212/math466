{
 "cells": [
  {
   "cell_type": "code",
   "execution_count": 22,
   "metadata": {},
   "outputs": [],
   "source": [
    "import pandas as pd\n",
    "import numpy as np"
   ]
  },
  {
   "cell_type": "code",
   "execution_count": 23,
   "metadata": {},
   "outputs": [],
   "source": [
    "data = pd.read_csv(\"nasdaq100_futures.csv\")\n",
    "data = data.set_index(\"Date\")"
   ]
  },
  {
   "cell_type": "code",
   "execution_count": 24,
   "metadata": {},
   "outputs": [
    {
     "data": {
      "text/html": [
       "<div>\n",
       "<style scoped>\n",
       "    .dataframe tbody tr th:only-of-type {\n",
       "        vertical-align: middle;\n",
       "    }\n",
       "\n",
       "    .dataframe tbody tr th {\n",
       "        vertical-align: top;\n",
       "    }\n",
       "\n",
       "    .dataframe thead th {\n",
       "        text-align: right;\n",
       "    }\n",
       "</style>\n",
       "<table border=\"1\" class=\"dataframe\">\n",
       "  <thead>\n",
       "    <tr style=\"text-align: right;\">\n",
       "      <th></th>\n",
       "      <th>Date</th>\n",
       "      <th>Open</th>\n",
       "      <th>High</th>\n",
       "      <th>Low</th>\n",
       "      <th>Close</th>\n",
       "      <th>Adj Close</th>\n",
       "      <th>Volume</th>\n",
       "    </tr>\n",
       "  </thead>\n",
       "  <tbody>\n",
       "    <tr>\n",
       "      <th>0</th>\n",
       "      <td>2000-09-18</td>\n",
       "      <td>3721.0</td>\n",
       "      <td>3785.5</td>\n",
       "      <td>3602.0</td>\n",
       "      <td>3653.5</td>\n",
       "      <td>3653.5</td>\n",
       "      <td>72994.0</td>\n",
       "    </tr>\n",
       "    <tr>\n",
       "      <th>1</th>\n",
       "      <td>2000-09-19</td>\n",
       "      <td>3658.5</td>\n",
       "      <td>3817.0</td>\n",
       "      <td>3656.0</td>\n",
       "      <td>3804.0</td>\n",
       "      <td>3804.0</td>\n",
       "      <td>70029.0</td>\n",
       "    </tr>\n",
       "    <tr>\n",
       "      <th>2</th>\n",
       "      <td>2000-09-20</td>\n",
       "      <td>3801.5</td>\n",
       "      <td>3874.0</td>\n",
       "      <td>3715.5</td>\n",
       "      <td>3853.0</td>\n",
       "      <td>3853.0</td>\n",
       "      <td>78832.0</td>\n",
       "    </tr>\n",
       "    <tr>\n",
       "      <th>3</th>\n",
       "      <td>2000-09-21</td>\n",
       "      <td>3852.0</td>\n",
       "      <td>3874.0</td>\n",
       "      <td>3744.0</td>\n",
       "      <td>3765.0</td>\n",
       "      <td>3765.0</td>\n",
       "      <td>70719.0</td>\n",
       "    </tr>\n",
       "    <tr>\n",
       "      <th>4</th>\n",
       "      <td>2000-09-22</td>\n",
       "      <td>3673.0</td>\n",
       "      <td>3780.0</td>\n",
       "      <td>3615.0</td>\n",
       "      <td>3776.0</td>\n",
       "      <td>3776.0</td>\n",
       "      <td>55926.0</td>\n",
       "    </tr>\n",
       "  </tbody>\n",
       "</table>\n",
       "</div>"
      ],
      "text/plain": [
       "         Date    Open    High     Low   Close  Adj Close   Volume\n",
       "0  2000-09-18  3721.0  3785.5  3602.0  3653.5     3653.5  72994.0\n",
       "1  2000-09-19  3658.5  3817.0  3656.0  3804.0     3804.0  70029.0\n",
       "2  2000-09-20  3801.5  3874.0  3715.5  3853.0     3853.0  78832.0\n",
       "3  2000-09-21  3852.0  3874.0  3744.0  3765.0     3765.0  70719.0\n",
       "4  2000-09-22  3673.0  3780.0  3615.0  3776.0     3776.0  55926.0"
      ]
     },
     "execution_count": 24,
     "metadata": {},
     "output_type": "execute_result"
    }
   ],
   "source": [
    "data.head()"
   ]
  },
  {
   "cell_type": "code",
   "execution_count": 43,
   "metadata": {},
   "outputs": [
    {
     "data": {
      "image/png": "[encoded data removed]",
      "text/plain": [
       "<Figure size 432x288 with 1 Axes>"
      ]
     },
     "metadata": {
      "needs_background": "light"
     },
     "output_type": "display_data"
    }
   ],
   "source": [
    "# Plot the Adj Close\n",
    "import matplotlib.pyplot as plt\n",
    "close = data[\"Adj Close\"].dropna()\n",
    "plt.figure()\n",
    "close.plot()\n",
    "plt.ylabel(\"Closing Price\")\n",
    "plt.title(\"Nasdaq 100 Futures Closing Price\")\n",
    "plt.savefig(\"Nasdaq_100_futures_closing_price.png\", dpi=800)"
   ]
  },
  {
   "cell_type": "code",
   "execution_count": 28,
   "metadata": {},
   "outputs": [
    {
     "name": "stderr",
     "output_type": "stream",
     "text": [
      "/Users/justinjiang/anaconda3/lib/python3.7/site-packages/statsmodels/tools/_testing.py:19: FutureWarning: pandas.util.testing is deprecated. Use the functions in the public API at pandas.testing instead.\n",
      "  import pandas.util.testing as tm\n",
      "/Users/justinjiang/anaconda3/lib/python3.7/site-packages/statsmodels/compat/pandas.py:23: FutureWarning: The Panel class is removed from pandas. Accessing it from the top-level namespace will also be removed in the next version\n",
      "  data_klasses = (pandas.Series, pandas.DataFrame, pandas.Panel)\n"
     ]
    }
   ],
   "source": [
    "# Start MLE\n",
    "import seaborn as sns\n",
    "from scipy.optimize import minimize\n",
    "import scipy.stats as stats\n",
    "import pymc3 as pm3\n",
    "# import numdifftools as ndt\n",
    "import statsmodels.api as sm\n",
    "from statsmodels.base.model import GenericLikelihoodModel\n",
    "%matplotlib inline"
   ]
  },
  {
   "cell_type": "code",
   "execution_count": 29,
   "metadata": {},
   "outputs": [],
   "source": [
    "# define likelihood function\n",
    "def MLERegression(params):\n",
    "    intercept, beta, sd = params[0], params[1], params[2]\n",
    "    yhat = intercept + beta*x # predictions\n",
    "    negLL = -np.sum( stats.norm.logpdf(y, loc=yhat, scale=sd) )\n",
    "    return(negLL)"
   ]
  },
  {
   "cell_type": "code",
   "execution_count": 42,
   "metadata": {},
   "outputs": [
    {
     "name": "stdout",
     "output_type": "stream",
     "text": [
      "Optimization terminated successfully.\n",
      "         Current function value: 41487.958753\n",
      "         Iterations: 303\n",
      "         Function evaluations: 547\n"
     ]
    }
   ],
   "source": [
    "# Guess\n",
    "guess = np.array([100,100,10])\n",
    "x = close.values\n",
    "y = [i for i in range(0,len(x))]\n",
    "y = np.array(y)\n",
    "results = minimize(MLERegression, guess, method = \"Nelder-Mead\", \n",
    " options={\"disp\": True})"
   ]
  },
  {
   "cell_type": "code",
   "execution_count": 40,
   "metadata": {},
   "outputs": [
    {
     "data": {
      "text/plain": [
       " final_simplex: (array([[9.11259661e+02, 4.84391343e-01, 7.99653430e+02],\n",
       "       [9.11259594e+02, 4.84391365e-01, 7.99653445e+02],\n",
       "       [9.11259686e+02, 4.84391350e-01, 7.99653424e+02],\n",
       "       [9.11259639e+02, 4.84391356e-01, 7.99653463e+02]]), array([41487.95875278, 41487.95875278, 41487.95875278, 41487.95875278]))\n",
       "           fun: 41487.95875277542\n",
       "       message: 'Optimization terminated successfully.'\n",
       "          nfev: 405\n",
       "           nit: 224\n",
       "        status: 0\n",
       "       success: True\n",
       "             x: array([9.11259661e+02, 4.84391343e-01, 7.99653430e+02])"
      ]
     },
     "execution_count": 40,
     "metadata": {},
     "output_type": "execute_result"
    }
   ],
   "source": [
    "results"
   ]
  }
 ],
 "metadata": {
  "kernelspec": {
   "display_name": "Python 3",
   "language": "python",
   "name": "python3"
  },
  "language_info": {
   "codemirror_mode": {
    "name": "ipython",
    "version": 3
   },
   "file_extension": ".py",
   "mimetype": "text/x-python",
   "name": "python",
   "nbconvert_exporter": "python",
   "pygments_lexer": "ipython3",
   "version": "3.7.3"
  }
 },
 "nbformat": 4,
 "nbformat_minor": 4
}
